{
 "cells": [
  {
   "cell_type": "markdown",
   "metadata": {},
   "source": [
    "# Results\n",
    "## Number of records in reference plasmids"
   ]
  },
  {
   "cell_type": "code",
   "execution_count": null,
   "metadata": {},
   "outputs": [],
   "source": [
    "import gzip\n",
    "from Bio import SeqIO\n",
    "\n",
    "with gzip.open(\"Files/refseq_plasmid/plasmid.1.1.genomic.fna.gz\",\"rt\") as handle1:\n",
    "    records1 = list(SeqIO.parse(handle1,\"fasta\"))\n",
    "    print(\"plasmid.1.1.genomic.fna.gz has\",len(records1),\"records.\")"
   ]
  },
  {
   "cell_type": "code",
   "execution_count": null,
   "metadata": {},
   "outputs": [],
   "source": [
    "with gzip.open(\"Files/refseq_plasmid/plasmid.2.1.genomic.fna.gz\",\"rt\") as handle2:\n",
    "    records2 = list(SeqIO.parse(handle2,\"fasta\"))\n",
    "    print(\"plasmid.2.1.genomic.fna.gz has\",len(records2),\"records.\")"
   ]
  },
  {
   "cell_type": "code",
   "execution_count": null,
   "metadata": {},
   "outputs": [],
   "source": [
    "with gzip.open(\"Files/refseq_plasmid/plasmid.3.1.genomic.fna.gz\",\"rt\") as handle3:\n",
    "    records3 = list(SeqIO.parse(handle3,\"fasta\"))\n",
    "    print(\"plasmid.3.1.genomic.fna.gz has\",len(records3),\"records.\")"
   ]
  },
  {
   "cell_type": "code",
   "execution_count": null,
   "metadata": {},
   "outputs": [],
   "source": [
    "with gzip.open(\"Files/refseq_plasmid/plasmid.4.1.genomic.fna.gz\",\"rt\") as handle4:\n",
    "    records4 = list(SeqIO.parse(handle4,\"fasta\"))\n",
    "    print(\"plasmid.4.1.genomic.fna.gz has\",len(records4),\"records.\")"
   ]
  },
  {
   "cell_type": "code",
   "execution_count": null,
   "metadata": {},
   "outputs": [],
   "source": [
    "with gzip.open(\"Files/refseq_plasmid/plasmid.5.1.genomic.fna.gz\",\"rt\") as handle5:\n",
    "    records5 = list(SeqIO.parse(handle5,\"fasta\"))\n",
    "    print(\"plasmid.5.1.genomic.fna.gz has\",len(records5),\"records.\")"
   ]
  },
  {
   "cell_type": "code",
   "execution_count": null,
   "metadata": {},
   "outputs": [],
   "source": [
    "total_number_of_records = len(records1)+len(records2)+len(records3)+len(records4)+len(records5)\n",
    "print(\"Total number of records are\",total_number_of_records)"
   ]
  },
  {
   "cell_type": "markdown",
   "metadata": {},
   "source": [
    "## Aligning reads with references\n",
    "\n",
    "• We analyze our reads with 15076 reference plasmids using *Burrows-Wheeler Aligner MEM* algortihm and *Burrows-Wheeler Aligner ALN* algortihm."
   ]
  },
  {
   "cell_type": "markdown",
   "metadata": {},
   "source": [
    "### Results of the Bwa-mem\n",
    "• Considering two different libraries which is called F5 and F20 in this case, 336 of 15076 references are aligned with more than 1000 reads.  "
   ]
  },
  {
   "cell_type": "code",
   "execution_count": null,
   "metadata": {},
   "outputs": [],
   "source": [
    "import pandas as pd \n",
    "import numpy as np\n",
    "\n",
    "pd.options.display.max_rows = 999\n",
    "\n",
    "def highlight_max(s):\n",
    "    '''\n",
    "    highlight the maximum in a Series yellow.\n",
    "    '''\n",
    "    is_max = s == s.max()\n",
    "    return ['background-color: yellow' if v else '' for v in is_max]\n",
    "\n",
    "df=pd.read_csv(\"Files/csv/bwa-mem-all.csv\")\n",
    "df"
   ]
  },
  {
   "cell_type": "code",
   "execution_count": null,
   "metadata": {},
   "outputs": [],
   "source": [
    "with gzip.open(\"Files/refseq_plasmid/plasmid.5.1.genomic.fna.gz\",\"rt\") as handle5:\n",
    "    for records in SeqIO.parse(handle5,\"fasta\"):\n",
    "        if records.id == \"NZ_LS997974.1\":\n",
    "            print(records.description,\"have most mapped reads with 66036.\")"
   ]
  },
  {
   "cell_type": "code",
   "execution_count": null,
   "metadata": {},
   "outputs": [],
   "source": [
    "a = df.groupby([\"Refseq\",\"Library\"])\n",
    "a.aggregate(max).style.apply(highlight_max)"
   ]
  },
  {
   "cell_type": "markdown",
   "metadata": {},
   "source": [
    "• If we have a look F5 library, we will see that plasmid.2.1.genomic.fna.gz has most mapped references with **48** records."
   ]
  },
  {
   "cell_type": "code",
   "execution_count": null,
   "metadata": {},
   "outputs": [],
   "source": [
    "a = df.groupby([\"Refseq\",\"Library\"]).size().to_frame()\n",
    "a.style.apply(highlight_max)"
   ]
  },
  {
   "cell_type": "markdown",
   "metadata": {},
   "source": [
    "### Results of the Bwa-aln\n",
    "• Considering two different libraries which is called F5 and F20 in this case, 297 of 15076 references are aligned with more than 1000 reads.  "
   ]
  },
  {
   "cell_type": "code",
   "execution_count": null,
   "metadata": {},
   "outputs": [],
   "source": [
    "df1=pd.read_csv(\"Files/csv/bwa-aln-all.csv\")\n",
    "df1"
   ]
  },
  {
   "cell_type": "code",
   "execution_count": null,
   "metadata": {},
   "outputs": [],
   "source": [
    "with gzip.open(\"Files/refseq_plasmid/plasmid.5.1.genomic.fna.gz\",\"rt\") as handle5:\n",
    "    for records in SeqIO.parse(handle5,\"fasta\"):\n",
    "        if records.id == \"NZ_LS997974.1\":\n",
    "            print(records.description,\"have most mapped reads with 60557.\")"
   ]
  },
  {
   "cell_type": "code",
   "execution_count": null,
   "metadata": {},
   "outputs": [],
   "source": [
    "b = df1.groupby([\"Refseq\",\"Library\"])\n",
    "b.aggregate(max).style.apply(highlight_max)"
   ]
  },
  {
   "cell_type": "markdown",
   "metadata": {},
   "source": [
    "• If we have a look F5 library, we will see that plasmid.2.1.genomic.fna.gz has most mapped references with **41** records."
   ]
  },
  {
   "cell_type": "code",
   "execution_count": null,
   "metadata": {},
   "outputs": [],
   "source": [
    "b = df1.groupby([\"Refseq\",\"Library\"]).size().to_frame()\n",
    "b.style.apply(highlight_max)"
   ]
  },
  {
   "cell_type": "markdown",
   "metadata": {},
   "source": [
    "### Breadth of Coverage"
   ]
  },
  {
   "cell_type": "code",
   "execution_count": null,
   "metadata": {},
   "outputs": [],
   "source": [
    "with gzip.open(\"Files/refseq_plasmid/plasmid.4.1.genomic.fna.gz\",\"rt\") as handle4:\n",
    "    for records in SeqIO.parse(handle4,\"fasta\"):\n",
    "        if records.id == \"NZ_CP027357.1\":\n",
    "            print(records.description,\"have most coverage on refence genome with % 0.945361.\")"
   ]
  },
  {
   "cell_type": "code",
   "execution_count": null,
   "metadata": {},
   "outputs": [],
   "source": [
    "df2=pd.read_csv(\"Files/coverage/bwa-mem-plasmidcoverageallsummarysorted.csv\")\n",
    "df2.style.apply(highlight_max)"
   ]
  },
  {
   "cell_type": "code",
   "execution_count": null,
   "metadata": {},
   "outputs": [],
   "source": [
    "import matplotlib.pyplot as plt\n",
    "import matplotlib.cm as cm\n",
    "\n",
    "x = np.arange(len(df2))\n",
    "colors = cm.rainbow(np.linspace(0, 1, len(x)))\n",
    "\n",
    "# For ggplot style plotting\n",
    "plt.style.use('ggplot')\n",
    "\n",
    "# For bigger output\n",
    "plt.figure(figsize=(20,10))\n",
    "plt.scatter(df2[\"Breadth of Coverage\"],df2[\"Accession\"],s=200,c=colors,marker=\"D\",linewidths=8)\n",
    "\n",
    "# For axis labels fontsize and rotation\n",
    "plt.xticks(rotation='vertical',fontsize=\"20\")\n",
    "plt.yticks(fontsize=\"20\")\n",
    "plt.show()"
   ]
  },
  {
   "cell_type": "code",
   "execution_count": null,
   "metadata": {},
   "outputs": [],
   "source": [
    "y= df2[\"Breadth of Coverage\"].tolist()\n",
    "x= np.arange(len(df2[\"Breadth of Coverage\"]))\n",
    "\n",
    "fig, ax = plt.subplots()\n",
    "title = 'Breadth of Coverage'\n",
    "ax.plot(x,y)\n",
    "ax.set_xticks(x)\n",
    "ax.set_xticklabels(df2[\"Accession\"].tolist(), rotation=90)\n",
    "plt.title(title, fontsize=13)\n",
    "plt.show()"
   ]
  }
 ],
 "metadata": {
  "kernelspec": {
   "display_name": "Python 3",
   "language": "python",
   "name": "python3"
  },
  "language_info": {
   "codemirror_mode": {
    "name": "ipython",
    "version": 3
   },
   "file_extension": ".py",
   "mimetype": "text/x-python",
   "name": "python",
   "nbconvert_exporter": "python",
   "pygments_lexer": "ipython3",
   "version": "3.6.5"
  }
 },
 "nbformat": 4,
 "nbformat_minor": 2
}
