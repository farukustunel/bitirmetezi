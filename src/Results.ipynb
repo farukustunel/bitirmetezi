{
 "cells": [
  {
   "cell_type": "markdown",
   "metadata": {},
   "source": [
    "# Results\n",
    "## • Number of records in reference plasmids"
   ]
  },
  {
   "cell_type": "markdown",
   "metadata": {},
   "source": [
    "| File Name                | Number of Records |\n",
    "| -----------------------  | ----------------- |\n",
    "| plasmid.1.1.genomic.fna  | **4597**          |\n",
    "| plasmid.2.1.genomic.fna  | **3234**          |  \n",
    "| plasmid.3.1.genomic.fna  | **2524**          | \n",
    "| plasmid.4.1.genomic.fna  | **3023**          | \n",
    "| plasmid.5.1.genomic.fna  | **1698**          | "
   ]
  },
  {
   "cell_type": "code",
   "execution_count": null,
   "metadata": {},
   "outputs": [],
   "source": [
    "total_number_of_records = 4597+3234+2524+3023+1698\n",
    "print(\"Total number of records are\",total_number_of_records)"
   ]
  },
  {
   "cell_type": "markdown",
   "metadata": {},
   "source": [
    "## • Aligning reads with references\n",
    "\n",
    "• We analyze our reads with 15076 reference plasmids using *Burrows-Wheeler Aligner MEM* algortihm and *Burrows-Wheeler Aligner ALN* algortihm."
   ]
  },
  {
   "cell_type": "markdown",
   "metadata": {},
   "source": [
    "### • Results of the Bwa-mem\n",
    "• Considering two different libraries which is called F5 and F20 in this case, 336 of 15076 references are aligned with more than 1000 reads.  "
   ]
  },
  {
   "cell_type": "code",
   "execution_count": null,
   "metadata": {},
   "outputs": [],
   "source": [
    "import pandas as pd \n",
    "import numpy as np\n",
    "\n",
    "def highlight_max(s):\n",
    "    '''\n",
    "    highlight the maximum in a Series yellow.\n",
    "    '''\n",
    "    is_max = s == s.max()\n",
    "    return ['background-color: yellow' if v else '' for v in is_max]\n",
    "\n",
    "df=pd.read_csv(\"Files/csv/bwa-mem-all.csv\")\n",
    "df"
   ]
  },
  {
   "cell_type": "markdown",
   "metadata": {},
   "source": [
    "• NZ_LS997974.1 Salmonella enterica subsp. enterica serovar Typhimurium strain D23580 genome assembly, plasmid: D23580_liv_pSLT-BT have most mapped reads with 66036."
   ]
  },
  {
   "cell_type": "markdown",
   "metadata": {},
   "source": [
    "• If we have a look F5 library, we will see that plasmid.2.1.genomic.fna.gz has most mapped references with **48** records."
   ]
  },
  {
   "cell_type": "code",
   "execution_count": null,
   "metadata": {},
   "outputs": [],
   "source": [
    "a = df.groupby([\"Refseq\",\"Library\"]).size().to_frame()\n",
    "a.style.apply(highlight_max)"
   ]
  },
  {
   "cell_type": "markdown",
   "metadata": {},
   "source": [
    "###  • Results of the Bwa-aln\n",
    "• Considering two different libraries which is called F5 and F20 in this case, 297 of 15076 references are aligned with more than 1000 reads.  "
   ]
  },
  {
   "cell_type": "code",
   "execution_count": null,
   "metadata": {},
   "outputs": [],
   "source": [
    "df1=pd.read_csv(\"Files/csv/bwa-aln-all.csv\")\n",
    "df1"
   ]
  },
  {
   "cell_type": "markdown",
   "metadata": {},
   "source": [
    "• NZ_LS997974.1 Salmonella enterica subsp. enterica serovar Typhimurium strain D23580 genome assembly, plasmid: D23580_liv_pSLT-BT have most mapped reads with 60557."
   ]
  },
  {
   "cell_type": "markdown",
   "metadata": {},
   "source": [
    "• If we have a look F5 library, we will see that plasmid.2.1.genomic.fna.gz has most mapped references with **41** records."
   ]
  },
  {
   "cell_type": "code",
   "execution_count": null,
   "metadata": {},
   "outputs": [],
   "source": [
    "b = df1.groupby([\"Refseq\",\"Library\"]).size().to_frame()\n",
    "b.style.apply(highlight_max)"
   ]
  },
  {
   "cell_type": "markdown",
   "metadata": {},
   "source": [
    "### • Breadth of Coverage"
   ]
  },
  {
   "cell_type": "markdown",
   "metadata": {},
   "source": [
    "• NZ_CP027357.1 Escherichia coli strain 2013C-4991 plasmid unnamed2 have most coverage on refence genome with % 94."
   ]
  },
  {
   "cell_type": "code",
   "execution_count": null,
   "metadata": {},
   "outputs": [],
   "source": [
    "df2=pd.read_csv(\"Files/coverage/bwa-mem-plasmidcoverageallsummarysorted.csv\")\n",
    "df2.style.apply(highlight_max)"
   ]
  },
  {
   "cell_type": "code",
   "execution_count": null,
   "metadata": {},
   "outputs": [],
   "source": [
    "import matplotlib.pyplot as plt\n",
    "import matplotlib.cm as cm\n",
    "\n",
    "x = np.arange(len(df2))\n",
    "colors = cm.rainbow(np.linspace(0, 1, len(x)))\n",
    "\n",
    "# For ggplot style plotting\n",
    "plt.style.use('ggplot')\n",
    "\n",
    "# For bigger output\n",
    "plt.figure(figsize=(15,7))\n",
    "plt.scatter(df2[\"Breadth of Coverage\"],df2[\"Accession\"],s=200,c=colors,marker=\"D\",linewidths=8)\n",
    "\n",
    "# For axis labels fontsize and rotation\n",
    "plt.xticks(rotation='vertical',fontsize=\"10\")\n",
    "plt.yticks(fontsize=\"10\")\n",
    "\n",
    "# For Main Title\n",
    "plt.title(\"Breadth of Coverage\", fontsize=20)\n",
    "\n",
    "# For Axes title\n",
    "plt.xlabel('Percentage of Coverage', fontsize=\"15\")\n",
    "plt.ylabel('Accessions', fontsize=\"15\")\n",
    "\n",
    "\n",
    "plt.show()"
   ]
  },
  {
   "cell_type": "code",
   "execution_count": null,
   "metadata": {},
   "outputs": [],
   "source": [
    "y= df2[\"Breadth of Coverage\"].tolist()\n",
    "x= np.arange(len(df2[\"Breadth of Coverage\"]))\n",
    "\n",
    "fig, ax = plt.subplots()\n",
    "title = 'Breadth of Coverage'\n",
    "ax.plot(x,y)\n",
    "ax.set_xticks(x)\n",
    "ax.set_xticklabels(df2[\"Accession\"].tolist(), rotation=90)\n",
    "\n",
    "# For Main Title\n",
    "plt.title(title, fontsize=15)\n",
    "\n",
    "# For Axes title\n",
    "ax.set_ylabel('Percentage of Coverage', fontsize=\"12\")\n",
    "ax.set_xlabel('Accessions',fontsize=\"12\")\n",
    "\n",
    "plt.show()"
   ]
  }
 ],
 "metadata": {
  "kernelspec": {
   "display_name": "Python 3",
   "language": "python",
   "name": "python3"
  },
  "language_info": {
   "codemirror_mode": {
    "name": "ipython",
    "version": 3
   },
   "file_extension": ".py",
   "mimetype": "text/x-python",
   "name": "python",
   "nbconvert_exporter": "python",
   "pygments_lexer": "ipython3",
   "version": "3.6.5"
  }
 },
 "nbformat": 4,
 "nbformat_minor": 2
}
