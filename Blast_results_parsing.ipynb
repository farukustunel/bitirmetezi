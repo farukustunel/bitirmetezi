{
 "cells": [
  {
   "cell_type": "code",
   "execution_count": null,
   "metadata": {},
   "outputs": [],
   "source": [
    "import pandas as pd\n",
    "\n",
    "a = pd.read_csv(\"mydbvscontigs.txt\", sep='\\t', engine=\"python\",header=None)\n",
    "a"
   ]
  },
  {
   "cell_type": "code",
   "execution_count": null,
   "metadata": {},
   "outputs": [],
   "source": [
    "a.columns=[\"Contigs\",\"Ref\",\"Identity\",\"Alignment_lenght\",\"Mismatches\",\"Gap_opens\",\"q.start\",\"q.end\",\"s.start\",\"s.end\",\"evalue\",\"bitscore\"]\n",
    "del a[\"Mismatches\"]\n",
    "del a[\"Gap_opens\"]\n",
    "del a[\"q.start\"]\n",
    "del a[\"q.end\"]\n",
    "del a[\"evalue\"]\n",
    "del a[\"bitscore\"]\n",
    "a"
   ]
  },
  {
   "cell_type": "code",
   "execution_count": null,
   "metadata": {},
   "outputs": [],
   "source": [
    "b=a[\"Contigs\"].str.split(\"_\")"
   ]
  },
  {
   "cell_type": "code",
   "execution_count": null,
   "metadata": {},
   "outputs": [],
   "source": [
    "c=[int(x[3]) for x in b]"
   ]
  },
  {
   "cell_type": "code",
   "execution_count": null,
   "metadata": {},
   "outputs": [],
   "source": [
    "a.insert(4,\"contig_length\",c)\n",
    "a.insert(5,\"name\",[x[1] for x in b])\n",
    "a"
   ]
  },
  {
   "cell_type": "code",
   "execution_count": null,
   "metadata": {},
   "outputs": [],
   "source": [
    "a[\"strand\"] = \"\"\n",
    "\n",
    "for i in range(a[\"s.start\"].count()):\n",
    "    if a[\"s.start\"][i]<a[\"s.end\"][i]:\n",
    "        a[\"strand\"][i]= \"+\"\n",
    "    else:\n",
    "        tmp = a[\"s.start\"][i]\n",
    "        a[\"s.start\"][i] = a[\"s.end\"][i]\n",
    "        a[\"s.end\"][i] = tmp\n",
    "        a[\"strand\"][i]= \"-\"\n",
    "    \n",
    "a   "
   ]
  },
  {
   "cell_type": "code",
   "execution_count": null,
   "metadata": {},
   "outputs": [],
   "source": [
    "(a[\"Alignment_lenght\"]/a[\"contig_length\"]>=0.8).value_counts()"
   ]
  },
  {
   "cell_type": "code",
   "execution_count": null,
   "metadata": {},
   "outputs": [],
   "source": [
    "d=a[a[\"Alignment_lenght\"]/a[\"contig_length\"]>=0.8]\n",
    "d"
   ]
  },
  {
   "cell_type": "code",
   "execution_count": null,
   "metadata": {},
   "outputs": [],
   "source": [
    "e=d[\"Ref\"].value_counts()"
   ]
  },
  {
   "cell_type": "code",
   "execution_count": null,
   "metadata": {},
   "outputs": [],
   "source": [
    "e.index"
   ]
  },
  {
   "cell_type": "code",
   "execution_count": null,
   "metadata": {},
   "outputs": [],
   "source": [
    "d[\"Ref\"].drop_duplicates()"
   ]
  },
  {
   "cell_type": "code",
   "execution_count": null,
   "metadata": {},
   "outputs": [],
   "source": [
    "e=d[d[\"Ref\"]==\"MF474175.1\"].sort_values(by=['s.start'])\n",
    "e"
   ]
  },
  {
   "cell_type": "code",
   "execution_count": null,
   "metadata": {},
   "outputs": [],
   "source": [
    "e"
   ]
  },
  {
   "cell_type": "code",
   "execution_count": null,
   "metadata": {
    "scrolled": true
   },
   "outputs": [],
   "source": [
    "previous = \"0\"\n",
    "for i in range(1, e[\"s.start\"].count()):\n",
    "    first=e.iloc[i-1]\n",
    "    second=e.iloc[i]\n",
    "    if first[\"s.end\"]<second[\"s.start\"]:\n",
    "        # no overlap\n",
    "        print(first[\"name\"],\"->\", second[\"name\"],\";\")\n",
    "    else:\n",
    "        print(previous,\"->\", second[\"name\"])\n",
    "    previous = second[\"name\"]"
   ]
  },
  {
   "cell_type": "code",
   "execution_count": null,
   "metadata": {},
   "outputs": [],
   "source": [
    "import graphviz\n",
    "\n",
    "graphviz1=graphviz.Digraph()\n",
    "graphviz1.attr(rankdir='LR')\n",
    "\n",
    "seen={}\n",
    "def edge(x,y):\n",
    "    if seen.get((x,y), 0) == 0:\n",
    "        graphviz1.edge(x, y)\n",
    "        seen[ (x,y) ] = 1\n",
    "\n",
    "previous = \"0\"\n",
    "prev_strand=\"+\"\n",
    "for i in range(1, e[\"s.start\"].count()):\n",
    "    first=e.iloc[i-1]\n",
    "    second=e.iloc[i]\n",
    "    if(second[\"strand\"]==\"+\"):\n",
    "        graphviz1.node(second[\"name\"]+second[\"s.start\"], second[\"name\"], shape='rarrow')\n",
    "    else:\n",
    "        graphviz1.node(second[\"name\"]+second[\"s.start\"], second[\"name\"], shape='larrow')\n",
    "    if first[\"s.end\"]<second[\"s.start\"]:\n",
    "        # no overlap\n",
    "        edge(first[\"name\"]+first[\"strand\"], second[\"name\"]+second[\"s.start\"])\n",
    "    else:\n",
    "        edge(previous+prev_strand, second[\"name\"]+second[\"s.start\"])\n",
    "    previous = second[\"name\"]\n",
    "    prev_strand = second[\"s.start\"]\n",
    "graphviz1"
   ]
  }
 ],
 "metadata": {
  "kernelspec": {
   "display_name": "Python 3",
   "language": "python",
   "name": "python3"
  },
  "language_info": {
   "codemirror_mode": {
    "name": "ipython",
    "version": 3
   },
   "file_extension": ".py",
   "mimetype": "text/x-python",
   "name": "python",
   "nbconvert_exporter": "python",
   "pygments_lexer": "ipython3",
   "version": "3.6.5"
  }
 },
 "nbformat": 4,
 "nbformat_minor": 2
}
