{
 "cells": [
  {
   "cell_type": "code",
   "execution_count": null,
   "metadata": {},
   "outputs": [],
   "source": [
    "import pandas as pd\n",
    "import numpy as np\n",
    "\n",
    "a = pd.read_csv(\"mydbvscontigs.txt\", sep='\\t', engine=\"python\",header=None)\n",
    "a"
   ]
  },
  {
   "cell_type": "code",
   "execution_count": null,
   "metadata": {},
   "outputs": [],
   "source": [
    "a.columns=[\"Contigs\",\"Ref\",\"Identity\",\"Alignment_lenght\",\"Mismatches\",\"Gap_opens\",\"q.start\",\"q.end\",\"s.start\",\"s.end\",\"evalue\",\"bitscore\"]\n",
    "del a[\"Mismatches\"]\n",
    "del a[\"Gap_opens\"]\n",
    "del a[\"q.start\"]\n",
    "del a[\"q.end\"]\n",
    "del a[\"evalue\"]\n",
    "del a[\"bitscore\"]\n",
    "a"
   ]
  },
  {
   "cell_type": "code",
   "execution_count": null,
   "metadata": {},
   "outputs": [],
   "source": [
    "b=a[\"Contigs\"].str.split(\"_\")"
   ]
  },
  {
   "cell_type": "code",
   "execution_count": null,
   "metadata": {},
   "outputs": [],
   "source": [
    "c=[int(x[3]) for x in b]"
   ]
  },
  {
   "cell_type": "code",
   "execution_count": null,
   "metadata": {},
   "outputs": [],
   "source": [
    "a.insert(4,\"contig_length\",c)\n",
    "a.insert(5,\"name\",[x[1] for x in b])\n",
    "a"
   ]
  },
  {
   "cell_type": "code",
   "execution_count": null,
   "metadata": {},
   "outputs": [],
   "source": [
    "a[\"strand\"] = \"\"\n",
    "\n",
    "for i in range(a[\"s.start\"].count()):\n",
    "    if a[\"s.start\"][i]<a[\"s.end\"][i]:\n",
    "        a[\"strand\"][i]= \"+\"\n",
    "    else:\n",
    "        tmp = a[\"s.start\"][i]\n",
    "        a[\"s.start\"][i] = a[\"s.end\"][i]\n",
    "        a[\"s.end\"][i] = tmp\n",
    "        a[\"strand\"][i]= \"-\"\n",
    "    \n",
    "a   "
   ]
  },
  {
   "cell_type": "code",
   "execution_count": null,
   "metadata": {},
   "outputs": [],
   "source": [
    "(a[\"Alignment_lenght\"]/a[\"contig_length\"]>=0.8).value_counts()"
   ]
  },
  {
   "cell_type": "code",
   "execution_count": null,
   "metadata": {},
   "outputs": [],
   "source": [
    "d=a[a[\"Alignment_lenght\"]/a[\"contig_length\"]>=0.8]\n",
    "d"
   ]
  },
  {
   "cell_type": "code",
   "execution_count": null,
   "metadata": {},
   "outputs": [],
   "source": [
    "e=d[\"Ref\"].value_counts()"
   ]
  },
  {
   "cell_type": "code",
   "execution_count": null,
   "metadata": {},
   "outputs": [],
   "source": [
    "e.index"
   ]
  },
  {
   "cell_type": "code",
   "execution_count": null,
   "metadata": {},
   "outputs": [],
   "source": [
    "d[\"Ref\"].drop_duplicates()"
   ]
  },
  {
   "cell_type": "code",
   "execution_count": null,
   "metadata": {
    "scrolled": true
   },
   "outputs": [],
   "source": [
    "e=d[d[\"Ref\"]==\"MF474175.1\"].sort_values(by=['s.start'])\n",
    "e"
   ]
  },
  {
   "cell_type": "code",
   "execution_count": null,
   "metadata": {
    "scrolled": true
   },
   "outputs": [],
   "source": [
    "previous = \"0\"\n",
    "for i in range(1, e[\"s.start\"].count()):\n",
    "    first=e.iloc[i-1]\n",
    "    second=e.iloc[i]\n",
    "    if first[\"s.end\"]<second[\"s.start\"]:\n",
    "        # no overlap\n",
    "        print(first[\"name\"],\"->\", second[\"name\"])\n",
    "    else:\n",
    "        print(previous,\"->\", second[\"name\"])\n",
    "    previous = second[\"name\"]"
   ]
  },
  {
   "cell_type": "code",
   "execution_count": null,
   "metadata": {
    "scrolled": true
   },
   "outputs": [],
   "source": [
    "LR025097=d[d[\"Ref\"]==\"LR025097.1\"].sort_values(by=['s.start'])\n",
    "LR025097"
   ]
  },
  {
   "cell_type": "code",
   "execution_count": null,
   "metadata": {},
   "outputs": [],
   "source": [
    "KJ484628=d[d[\"Ref\"]==\"KJ484628.1\"].sort_values(by=['s.start'])\n",
    "KJ484628"
   ]
  },
  {
   "cell_type": "code",
   "execution_count": null,
   "metadata": {},
   "outputs": [],
   "source": [
    "KJ484626 = d[d[\"Ref\"]==\"KJ484626.1\"].sort_values(by=['s.start'])\n",
    "KJ484626"
   ]
  },
  {
   "cell_type": "code",
   "execution_count": null,
   "metadata": {},
   "outputs": [],
   "source": [
    "CP029744 = d[d[\"Ref\"]==\"CP029744.1\"].sort_values(by=['s.start'])\n",
    "CP029744"
   ]
  },
  {
   "cell_type": "code",
   "execution_count": null,
   "metadata": {},
   "outputs": [],
   "source": [
    "CP027357 = d[d[\"Ref\"]==\"CP027357.1\"].sort_values(by=['s.start'])\n",
    "CP027357"
   ]
  },
  {
   "cell_type": "code",
   "execution_count": null,
   "metadata": {},
   "outputs": [],
   "source": [
    "CP021728 = d[d[\"Ref\"]==\"CP021728.1\"].sort_values(by=['s.start'])\n",
    "CP021728"
   ]
  },
  {
   "cell_type": "code",
   "execution_count": null,
   "metadata": {},
   "outputs": [],
   "source": [
    "CP019007 = d[d[\"Ref\"]==\"CP019007.1\"].sort_values(by=['s.start'])\n",
    "CP019007"
   ]
  },
  {
   "cell_type": "code",
   "execution_count": null,
   "metadata": {},
   "outputs": [],
   "source": [
    "AF550679 = d[d[\"Ref\"]==\"AF550679.1\"].sort_values(by=['s.start'])\n",
    "AF550679"
   ]
  },
  {
   "cell_type": "code",
   "execution_count": null,
   "metadata": {},
   "outputs": [],
   "source": [
    "KJ170699 = d[d[\"Ref\"]==\"KJ170699.1\"].sort_values(by=['s.start'])\n",
    "KJ170699"
   ]
  },
  {
   "cell_type": "code",
   "execution_count": null,
   "metadata": {},
   "outputs": [],
   "source": [
    "import graphviz\n",
    "\n",
    "def drawing_graphviz(ref, label=\"\", N=8):\n",
    "    g=graphviz.Digraph()\n",
    "    g.attr(rankdir='LR', label=label)\n",
    "\n",
    "    seen={}\n",
    "    def edge(x,y):\n",
    "        if seen.get((x,y), 0) == 0:\n",
    "            g.edge(x, y)\n",
    "            seen[ (x,y) ] = 1\n",
    "\n",
    "    sg = {}\n",
    "    for i in range(N):\n",
    "        sg[i] = graphviz.Digraph()\n",
    "        sg[i].attr(rank=\"same\")\n",
    "\n",
    "    second=ref.iloc[0]\n",
    "    if(second[\"strand\"]==\"+\"):\n",
    "        g.node(second[\"name\"]+str(second[\"s.start\"]), second[\"name\"], shape='rarrow')\n",
    "        sg[0].node(second[\"name\"]+str(second[\"s.start\"]), second[\"name\"], shape='rarrow')\n",
    "    else:\n",
    "        g.node(second[\"name\"]+str(second[\"s.start\"]), second[\"name\"], shape='larrow')\n",
    "        sg[0].node(second[\"name\"]+str(second[\"s.start\"]), second[\"name\"], shape='larrow')\n",
    "\n",
    "    previous = second[\"name\"]\n",
    "    prev_strand = str(second[\"s.start\"])\n",
    "\n",
    "    for i in range(1, ref[\"s.start\"].count()):\n",
    "        first=ref.iloc[i-1]\n",
    "        second=ref.iloc[i]\n",
    "        if(second[\"strand\"]==\"+\"):\n",
    "            g.node(second[\"name\"]+str(second[\"s.start\"]), second[\"name\"], shape='rarrow')\n",
    "            sg[i%N].node(second[\"name\"]+str(second[\"s.start\"]), second[\"name\"], shape='rarrow')\n",
    "        else:\n",
    "            g.node(second[\"name\"]+str(second[\"s.start\"]), second[\"name\"], shape='larrow')\n",
    "            sg[i%N].node(second[\"name\"]+str(second[\"s.start\"]), second[\"name\"], shape='larrow')\n",
    "        if first[\"s.end\"]<second[\"s.start\"]:\n",
    "            # no overlap\n",
    "            edge(first[\"name\"]+str(first[\"s.start\"]), second[\"name\"]+str(second[\"s.start\"]))\n",
    "        else:\n",
    "            edge(previous+prev_strand, second[\"name\"]+str(second[\"s.start\"]))\n",
    "        previous = second[\"name\"]\n",
    "        prev_strand = str(second[\"s.start\"])\n",
    "\n",
    "    for i in range(N):\n",
    "        g.subgraph(sg[i])\n",
    "\n",
    "    return(g)"
   ]
  },
  {
   "cell_type": "code",
   "execution_count": null,
   "metadata": {},
   "outputs": [],
   "source": [
    "drawing_graphviz(LR025097,\"LR025097\").render(\"LR025097.gv\",\"Graphviz/\",\"pdf\")\n",
    "drawing_graphviz(KJ484628,\"KJ484628\").render(\"KJ484628.gv\",\"Graphviz/\",\"pdf\")\n",
    "drawing_graphviz(KJ484626,\"KJ484626\").render(\"KJ484626.gv\",\"Graphviz/\",\"pdf\")\n",
    "drawing_graphviz(CP029744,\"CP029744\").render(\"CP029744.gv\",\"Graphviz/\",\"pdf\")\n",
    "drawing_graphviz(CP027357,\"CP027357\").render(\"CP027357.gv\",\"Graphviz/\",\"pdf\")\n",
    "drawing_graphviz(CP021728,\"CP021728\").render(\"CP021728.gv\",\"Graphviz/\",\"pdf\")\n",
    "drawing_graphviz(CP019007,\"CP019007\").render(\"CP019007.gv\",\"Graphviz/\",\"pdf\")\n",
    "drawing_graphviz(AF550679,\"AF550679\").render(\"AF550679.gv\",\"Graphviz/\",\"pdf\")\n",
    "drawing_graphviz(KJ170699,\"KJ170699\").render(\"KJ170699.gv\",\"Graphviz/\",\"pdf\")\n",
    "drawing_graphviz(e,\"MF474175\").render(\"MF474175.gv\",\"Graphviz/\",\"pdf\")"
   ]
  },
  {
   "cell_type": "code",
   "execution_count": null,
   "metadata": {},
   "outputs": [],
   "source": [
    "def col2list(dataframe,col):\n",
    "    return dataframe[col].to_list()"
   ]
  },
  {
   "cell_type": "code",
   "execution_count": null,
   "metadata": {},
   "outputs": [],
   "source": [
    "LR025097_list = col2list(LR025097, \"name\")\n",
    "KJ484628_list = col2list(KJ484628, \"name\")\n",
    "len(LR025097_list),len(KJ484628_list)"
   ]
  },
  {
   "cell_type": "code",
   "execution_count": null,
   "metadata": {},
   "outputs": [],
   "source": [
    "matrix = pd.DataFrame(index=KJ484628_list, columns=LR025097_list)\n",
    "\n",
    "for i in matrix.index:\n",
    "    for j in matrix.columns:\n",
    "        if i==j:\n",
    "            matrix.loc[i,j]=1\n",
    "        else:\n",
    "            matrix.loc[i,j]=0\n",
    "\n",
    "matrix"
   ]
  }
 ],
 "metadata": {
  "kernelspec": {
   "display_name": "Python 3",
   "language": "python",
   "name": "python3"
  },
  "language_info": {
   "codemirror_mode": {
    "name": "ipython",
    "version": 3
   },
   "file_extension": ".py",
   "mimetype": "text/x-python",
   "name": "python",
   "nbconvert_exporter": "python",
   "pygments_lexer": "ipython3",
   "version": "3.6.5"
  }
 },
 "nbformat": 4,
 "nbformat_minor": 2
}
